{
  "nbformat": 4,
  "nbformat_minor": 0,
  "metadata": {
    "colab": {
      "provenance": []
    },
    "kernelspec": {
      "name": "python3",
      "display_name": "Python 3"
    },
    "language_info": {
      "name": "python"
    }
  },
  "cells": [
    {
      "cell_type": "code",
      "execution_count": null,
      "metadata": {
        "id": "4SiRqpFPnqLH"
      },
      "outputs": [],
      "source": []
    },
    {
      "cell_type": "markdown",
      "source": [],
      "metadata": {
        "id": "8jFBRLt4z8bG"
      }
    },
    {
      "cell_type": "markdown",
      "source": [
        "**Chapter 3**\n",
        "**Question 3.4**"
      ],
      "metadata": {
        "id": "i1oHM4o6n4-Q"
      }
    },
    {
      "cell_type": "code",
      "source": [
        "guest_invitation= [\"yumna,\" \"parsa,\" \"sana\"]\n",
        "print(\"hi!\" + guest_invitation[0].title()+  \"i invite you to the dinner\")\n",
        "\n",
        "\n"
      ],
      "metadata": {
        "colab": {
          "base_uri": "https://localhost:8080/"
        },
        "id": "yUtYpHzxoF0_",
        "outputId": "d1e29b31-5dcc-402e-ef9f-c00a3936fdc4"
      },
      "execution_count": 28,
      "outputs": [
        {
          "output_type": "stream",
          "name": "stdout",
          "text": [
            "hi!Yumna,Parsa,Sanai invite you to the dinner\n"
          ]
        }
      ]
    },
    {
      "cell_type": "markdown",
      "source": [
        "**Question 3.5**"
      ],
      "metadata": {
        "id": "c10LZf9WzyLr"
      }
    },
    {
      "cell_type": "code",
      "source": [
        "guest= [\"yumna\",\"sana\", \"parsa\"]\n",
        "print(guest[1].title() + \"will not join us\")\n",
        "guest[1]= \"iqra\"\n",
        "print(guest[0].title() + \"you are invited\")\n",
        "print(guest[1].title() + \"you are invited\" )\n",
        "print(guest[2].title() + \"you are invited\")"
      ],
      "metadata": {
        "colab": {
          "base_uri": "https://localhost:8080/"
        },
        "id": "PdEjvKpRz5wV",
        "outputId": "80a01de2-0dff-49c4-f86e-a1a4736de18b"
      },
      "execution_count": 42,
      "outputs": [
        {
          "output_type": "stream",
          "name": "stdout",
          "text": [
            "Sanawill not join us\n",
            "Yumnayou are invited\n",
            "Iqrayou are invited\n",
            "Parsayou are invited\n"
          ]
        }
      ]
    },
    {
      "cell_type": "markdown",
      "source": [
        "**Question 3.6**"
      ],
      "metadata": {
        "id": "KseCy6K45BN5"
      }
    },
    {
      "cell_type": "code",
      "source": [
        "guest=[\"yumna\", \"sana\", \"parsa\"]\n",
        "guest.insert(0 , \"naila\")\n",
        "print(guest)\n",
        "guest.insert(2, \"faiza\")\n",
        "print(guest)\n",
        "guest.append(\"iqra\")\n",
        "print(guest)\n",
        "print(\"i have got a bigger dinner table. you all are invited\")"
      ],
      "metadata": {
        "colab": {
          "base_uri": "https://localhost:8080/"
        },
        "id": "3XaLbbuI5bHH",
        "outputId": "053efc46-0a3b-406f-e440-4f1a4cf7efd9"
      },
      "execution_count": 54,
      "outputs": [
        {
          "output_type": "stream",
          "name": "stdout",
          "text": [
            "['naila', 'yumna', 'sana', 'parsa']\n",
            "['naila', 'yumna', 'faiza', 'sana', 'parsa']\n",
            "['naila', 'yumna', 'faiza', 'sana', 'parsa', 'iqra']\n",
            "i have got a bigger dinner table. you all are invited\n"
          ]
        }
      ]
    },
    {
      "cell_type": "code",
      "source": [],
      "metadata": {
        "id": "eSBC7eVKAQXB"
      },
      "execution_count": null,
      "outputs": []
    },
    {
      "cell_type": "markdown",
      "source": [
        "**Question 3.7**"
      ],
      "metadata": {
        "id": "N2XzgctG9C2D"
      }
    },
    {
      "cell_type": "code",
      "source": [
        "guest= [\"yumna\", \"sana\", \"parsa\"]\n",
        "print(\"i am so sorry i only invite two persons\")\n",
        "popped_guest= guest.pop(0)\n",
        "print(popped_guest, \"sorry i cannot invite you\")\n",
        "popped_guest= guest.pop(1)\n",
        "print(popped_guest, \"sorry i cannot invite you\")\n",
        "popped_guest= guest.pop(0)\n",
        "print(popped_guest, \"sorry i cannot invite you\")\n",
        "guest= [\"iqra\", \"naila\"]\n",
        "print(guest[0], \"you are invited on the dinner\")\n",
        "print(guest[1], \"you are invited on the dinner\")\n",
        "del guest[0]\n",
        "del guest[0]\n",
        "print(guest)\n",
        "\n"
      ],
      "metadata": {
        "colab": {
          "base_uri": "https://localhost:8080/"
        },
        "id": "axFTTQP9_OfB",
        "outputId": "a95c0ead-9d78-4903-a6ce-1cb529a24da1"
      },
      "execution_count": 70,
      "outputs": [
        {
          "output_type": "stream",
          "name": "stdout",
          "text": [
            "i am so sorry i only invite two persons\n",
            "yumna sorry i cannot invite you\n",
            "parsa sorry i cannot invite you\n",
            "sana sorry i cannot invite you\n",
            "iqra you are invited on the dinner\n",
            "naila you are invited on the dinner\n",
            "[]\n"
          ]
        }
      ]
    },
    {
      "cell_type": "markdown",
      "source": [],
      "metadata": {
        "id": "4uGo9u-0w-mu"
      }
    }
  ]
}