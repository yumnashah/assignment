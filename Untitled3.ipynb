{
  "nbformat": 4,
  "nbformat_minor": 0,
  "metadata": {
    "colab": {
      "provenance": [],
      "authorship_tag": "ABX9TyNfL0gtCiWp3f/8Kn7m8UR4",
      "include_colab_link": true
    },
    "kernelspec": {
      "name": "python3",
      "display_name": "Python 3"
    },
    "language_info": {
      "name": "python"
    }
  },
  "cells": [
    {
      "cell_type": "markdown",
      "metadata": {
        "id": "view-in-github",
        "colab_type": "text"
      },
      "source": [
        "<a href=\"https://colab.research.google.com/github/yumnashah/assignment/blob/main/Untitled3.ipynb\" target=\"_parent\"><img src=\"https://colab.research.google.com/assets/colab-badge.svg\" alt=\"Open In Colab\"/></a>"
      ]
    },
    {
      "cell_type": "markdown",
      "source": [
        "**chapter 4**\n",
        "**Question 4.1**"
      ],
      "metadata": {
        "id": "xtSrIo1ROs5D"
      }
    },
    {
      "cell_type": "code",
      "source": [
        "pizzas=[\"BBQ\", \"Margrita\" \"fagita\"]\n",
        "for pizza in pizzas:\n",
        "  print(\"i like\"+pizza )\n",
        "  print(\"i love to eat pizza with friends\")\n"
      ],
      "metadata": {
        "colab": {
          "base_uri": "https://localhost:8080/"
        },
        "id": "sj_iXnqtPcHP",
        "outputId": "aaaff320-c8bf-4c2f-bee8-118e9f1f486e"
      },
      "execution_count": 28,
      "outputs": [
        {
          "output_type": "stream",
          "name": "stdout",
          "text": [
            "i likeBBQ\n",
            "i love to eat pizza with friends\n",
            "i likeMargritafagita\n",
            "i love to eat pizza with friends\n"
          ]
        }
      ]
    },
    {
      "cell_type": "markdown",
      "source": [
        "**Question 4.2**"
      ],
      "metadata": {
        "id": "IhxCnr9yXswi"
      }
    },
    {
      "cell_type": "code",
      "source": [
        "pet_list=[\"cat\", \"dog\", \"hen\"]\n",
        "for pet in pet_list:\n",
        "  print(pet)\n",
        "  print(\"any of these animals would be great pet.\")"
      ],
      "metadata": {
        "id": "_v-IfeM4O_-b",
        "colab": {
          "base_uri": "https://localhost:8080/"
        },
        "outputId": "6f6012be-5726-4592-8b0c-47138e7a8dfc"
      },
      "execution_count": 31,
      "outputs": [
        {
          "output_type": "stream",
          "name": "stdout",
          "text": [
            "cat\n",
            "any of these animals would be great pet.\n",
            "dog\n",
            "any of these animals would be great pet.\n",
            "hen\n",
            "any of these animals would be great pet.\n"
          ]
        }
      ]
    },
    {
      "cell_type": "code",
      "execution_count": null,
      "metadata": {
        "id": "HmlZpWQzNaoz"
      },
      "outputs": [],
      "source": []
    }
  ]
}